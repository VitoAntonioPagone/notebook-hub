{
 "cells": [
  {
   "cell_type": "markdown",
   "metadata": {},
   "source": [
    "# Differentiable Physics Application"
   ]
  },
  {
   "cell_type": "markdown",
   "metadata": {},
   "source": [
    "Source: https://scipython.com/blog/the-brachistochrone-problem/"
   ]
  },
  {
   "cell_type": "markdown",
   "metadata": {},
   "source": [
    "# Approximating the Brachistochrone Curve with a Neural Network\n",
    "\n",
    "## Problem Statement\n",
    "\n",
    "I want to approximate the curve \\( y = f(x) \\) using a neural network. To do so, I need a physics-based model to define my loss function. The loss will be the total time taken by a ball to travel along the curve under gravity, and I will minimize this time.\n",
    "\n",
    "## Physics Model\n",
    "\n",
    "The time taken for the ball to travel along the curve is given by the integral:\n",
    "\n",
    "$$ \n",
    "T = \\int_0^L \\frac{ds}{v} \n",
    "$$\n",
    "\n",
    "where:\n",
    "\n",
    "- \\( L \\) is the total arc length of the curve.\n",
    "- \\( ds \\) is the differential arc length.\n",
    "- \\( v \\) is the velocity of the ball.\n",
    "\n",
    "---\n",
    "\n",
    "### Conservation of Energy\n",
    "\n",
    "The ball must obey the conservation of energy:\n",
    "\n",
    "$$ \n",
    "\\frac{1}{2} m v^2 = mg y \n",
    "$$\n",
    "\n",
    "where:\n",
    "\n",
    "- \\( m \\) is the mass of the ball.\n",
    "- \\( v \\) is its velocity.\n",
    "- \\( g = 9.81 \\, m/s^2 \\) is the gravitational acceleration.\n",
    "\n",
    "\n",
    "\n",
    "Rearranging for \\( v \\):\n",
    "\n",
    "$$ \n",
    "v = \\sqrt{2 g y} \n",
    "$$\n",
    "\n",
    "Substituting this into the time integral:\n",
    "\n",
    "$$ \n",
    "T = \\int_0^L \\frac{ds}{\\sqrt{2 g y}} \n",
    "$$\n",
    "\n",
    "### Arc Length Differential\n",
    "\n",
    "From differential geometry, the arc length element \\( ds \\) satisfies:\n",
    "\n",
    "$$ \n",
    "ds^2 = dx^2 + dy^2 \n",
    "$$\n",
    "\n",
    "**Why?** This comes from the Pythagorean theorem applied to an infinitesimal segment of the curve.\n",
    "\n",
    "Thus, we substitute:\n",
    "\n",
    "$$ \n",
    "ds = \\sqrt{dx^2 + dy^2} \n",
    "$$\n",
    "\n",
    "So the final integral for time becomes:\n",
    "\n",
    "$$ \n",
    "T = \\int_0^L \\frac{\\sqrt{dx^2 + dy^2}}{\\sqrt{2 g y}} \n",
    "$$\n",
    "\n",
    "This integral will serve as the loss function for training the neural network.\n"
   ]
  },
  {
   "cell_type": "markdown",
   "metadata": {},
   "source": []
  }
 ],
 "metadata": {
  "kernelspec": {
   "display_name": "Python 3",
   "language": "python",
   "name": "python3"
  },
  "language_info": {
   "name": "python",
   "version": "3.10.11"
  }
 },
 "nbformat": 4,
 "nbformat_minor": 2
}
